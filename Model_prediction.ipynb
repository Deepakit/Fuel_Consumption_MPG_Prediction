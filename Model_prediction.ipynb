{
 "cells": [
  {
   "cell_type": "code",
   "execution_count": 45,
   "metadata": {},
   "outputs": [],
   "source": [
    "import pandas as pd\n",
    "import numpy as np\n",
    "import matplotlib.pyplot as plt\n",
    "import seaborn as sns\n",
    "\n",
    "from sklearn.preprocessing import StandardScaler, OneHotEncoder\n",
    "from sklearn.impute import SimpleImputer\n",
    "from sklearn.compose import ColumnTransformer\n",
    "\n",
    "from sklearn.model_selection import StratifiedShuffleSplit\n",
    "from sklearn.base import BaseEstimator,TransformerMixin\n",
    "from sklearn.pipeline import Pipeline\n",
    "\n"
   ]
  },
  {
   "cell_type": "code",
   "execution_count": 46,
   "metadata": {},
   "outputs": [],
   "source": [
    "cols = ['MPG','Cylinders','Displacement','Horsepower','Weight',\n",
    "                'Acceleration', 'Model Year', 'Origin']\n",
    "\n",
    "df=pd.read_csv(\"auto-mpg.data\",names=cols,na_values='?',comment='\\t',sep=\" \",skipinitialspace=True)\n",
    "data=df.copy()\n",
    "\n",
    "split=StratifiedShuffleSplit(n_splits=1,test_size=0.2,random_state=42)\n",
    "for train_index,test_index in split.split(data,data['Cylinders']):\n",
    "    strat_train_set=data.loc[train_index]\n",
    "    strat_test_set=data.loc[test_index]"
   ]
  },
  {
   "cell_type": "code",
   "execution_count": 47,
   "metadata": {},
   "outputs": [
    {
     "data": {
      "text/html": [
       "<div>\n",
       "<style scoped>\n",
       "    .dataframe tbody tr th:only-of-type {\n",
       "        vertical-align: middle;\n",
       "    }\n",
       "\n",
       "    .dataframe tbody tr th {\n",
       "        vertical-align: top;\n",
       "    }\n",
       "\n",
       "    .dataframe thead th {\n",
       "        text-align: right;\n",
       "    }\n",
       "</style>\n",
       "<table border=\"1\" class=\"dataframe\">\n",
       "  <thead>\n",
       "    <tr style=\"text-align: right;\">\n",
       "      <th></th>\n",
       "      <th>Cylinders</th>\n",
       "      <th>Displacement</th>\n",
       "      <th>Horsepower</th>\n",
       "      <th>Weight</th>\n",
       "      <th>Acceleration</th>\n",
       "      <th>Model Year</th>\n",
       "      <th>Origin</th>\n",
       "    </tr>\n",
       "  </thead>\n",
       "  <tbody>\n",
       "    <tr>\n",
       "      <th>145</th>\n",
       "      <td>4</td>\n",
       "      <td>83.0</td>\n",
       "      <td>61.0</td>\n",
       "      <td>2003.0</td>\n",
       "      <td>19.0</td>\n",
       "      <td>74</td>\n",
       "      <td>3</td>\n",
       "    </tr>\n",
       "    <tr>\n",
       "      <th>151</th>\n",
       "      <td>4</td>\n",
       "      <td>79.0</td>\n",
       "      <td>67.0</td>\n",
       "      <td>2000.0</td>\n",
       "      <td>16.0</td>\n",
       "      <td>74</td>\n",
       "      <td>2</td>\n",
       "    </tr>\n",
       "    <tr>\n",
       "      <th>388</th>\n",
       "      <td>4</td>\n",
       "      <td>156.0</td>\n",
       "      <td>92.0</td>\n",
       "      <td>2585.0</td>\n",
       "      <td>14.5</td>\n",
       "      <td>82</td>\n",
       "      <td>1</td>\n",
       "    </tr>\n",
       "    <tr>\n",
       "      <th>48</th>\n",
       "      <td>6</td>\n",
       "      <td>250.0</td>\n",
       "      <td>88.0</td>\n",
       "      <td>3139.0</td>\n",
       "      <td>14.5</td>\n",
       "      <td>71</td>\n",
       "      <td>1</td>\n",
       "    </tr>\n",
       "    <tr>\n",
       "      <th>114</th>\n",
       "      <td>4</td>\n",
       "      <td>98.0</td>\n",
       "      <td>90.0</td>\n",
       "      <td>2265.0</td>\n",
       "      <td>15.5</td>\n",
       "      <td>73</td>\n",
       "      <td>2</td>\n",
       "    </tr>\n",
       "  </tbody>\n",
       "</table>\n",
       "</div>"
      ],
      "text/plain": [
       "     Cylinders  Displacement  Horsepower  Weight  Acceleration  Model Year  \\\n",
       "145          4          83.0        61.0  2003.0          19.0          74   \n",
       "151          4          79.0        67.0  2000.0          16.0          74   \n",
       "388          4         156.0        92.0  2585.0          14.5          82   \n",
       "48           6         250.0        88.0  3139.0          14.5          71   \n",
       "114          4          98.0        90.0  2265.0          15.5          73   \n",
       "\n",
       "     Origin  \n",
       "145       3  \n",
       "151       2  \n",
       "388       1  \n",
       "48        1  \n",
       "114       2  "
      ]
     },
     "execution_count": 47,
     "metadata": {},
     "output_type": "execute_result"
    }
   ],
   "source": [
    "data=strat_train_set.drop('MPG',axis=1)\n",
    "data_label=strat_train_set[\"MPG\"].copy()\n",
    "data.head()"
   ]
  },
  {
   "cell_type": "code",
   "execution_count": 48,
   "metadata": {},
   "outputs": [],
   "source": [
    "def preprocess_origin_col(df):\n",
    "    df[\"Origin\"] = df[\"Origin\"].map({1: \"India\", 2: \"USA\", 3: \"Germany\"})\n",
    "    return df"
   ]
  },
  {
   "cell_type": "code",
   "execution_count": 49,
   "metadata": {},
   "outputs": [],
   "source": [
    "index_acc,index_hp,index_cyl=4,2,0\n",
    "\n",
    "class FeatureAdder(BaseEstimator,TransformerMixin):\n",
    "    def __init__(self,acc_power=True):\n",
    "        self.acc_power=acc_power\n",
    "    def fit(self,X,y=None):\n",
    "        return self\n",
    "    def transform(self,X):\n",
    "        acc_cylinder=X[:,index_acc]/X[:,index_cyl]\n",
    "        if self.acc_power:\n",
    "            acc_power=X[:,index_acc]/X[:,index_hp]\n",
    "            return np.c_[X,acc_power,acc_cylinder]\n",
    "        return np.c_[X,acc_cylinder]\n",
    "    "
   ]
  },
  {
   "cell_type": "markdown",
   "metadata": {},
   "source": [
    "def numeric_pipeline(df):\n",
    "    numerics=['float64','int64']\n",
    "    attr=df.select_dtypes(include=numerics)\n",
    "    \n",
    "    pipeline=Pipeline([\n",
    "        (\"Imputer\", SimpleImputer(strategy=\"median\")),\n",
    "        (\"Feature Add\",FeatureAdder()),\n",
    "        (\"Scaler\",StandardScaler()),\n",
    "    ])\n",
    "    return attr,pipeline\n",
    "\n",
    "\n",
    "def data_pipeline(df):\n",
    "    cat=[\"Origin\"]\n",
    "    attr,pipeline=numeric_pipeline(df)\n",
    "    full_pipeline=ColumnTransformer([\n",
    "        (\"Numeric_transform\",pipeline,list(attr))\n",
    "        (\"Encode\",OneHotEncoder(),cat),\n",
    "     ])\n",
    "    data=full_pipeline.fit_transform(df)\n",
    "    return data\n"
   ]
  },
  {
   "cell_type": "code",
   "execution_count": 50,
   "metadata": {},
   "outputs": [],
   "source": [
    "def numeric_pipeline(data):\n",
    "    '''\n",
    "    Function to process numerical transformations\n",
    "    Argument:\n",
    "        data: original dataframe \n",
    "    Returns:\n",
    "        num_attrs: numerical dataframe\n",
    "        num_pipeline: numerical pipeline object\n",
    "        \n",
    "    '''\n",
    "    numerics = ['float64', 'int64']\n",
    "\n",
    "    num_attrs = data.select_dtypes(include=numerics)\n",
    "\n",
    "    num_pipeline = Pipeline([\n",
    "        ('imputer', SimpleImputer(strategy=\"median\")),\n",
    "        ('attrs_adder', FeatureAdder()),\n",
    "        ('std_scaler', StandardScaler()),\n",
    "        ])\n",
    "    return num_attrs, num_pipeline\n",
    "\n",
    "\n",
    "def data_pipeline(data):\n",
    "    '''\n",
    "    Complete transformation pipeline for both\n",
    "    nuerical and categorical data.\n",
    "    \n",
    "    Argument:\n",
    "        data: original dataframe \n",
    "    Returns:\n",
    "        prepared_data: transformed data, ready to use\n",
    "    '''\n",
    "    cat_attrs = [\"Origin\"]\n",
    "    num_attrs, num_pipeline = numeric_pipeline(data)\n",
    "    full_pipeline = ColumnTransformer([\n",
    "        (\"num\", num_pipeline, list(num_attrs)),\n",
    "        (\"cat\", OneHotEncoder(), cat_attrs),\n",
    "        ])\n",
    "    prepared_data = full_pipeline.fit_transform(data)\n",
    "    return prepared_data"
   ]
  },
  {
   "cell_type": "code",
   "execution_count": 51,
   "metadata": {},
   "outputs": [
    {
     "data": {
      "text/plain": [
       "array([-0.85657842, -1.07804475, -1.15192977, -1.17220298,  1.21586943,\n",
       "       -0.54436373,  1.70952741,  1.29565517,  1.        ,  0.        ,\n",
       "        0.        ])"
      ]
     },
     "execution_count": 51,
     "metadata": {},
     "output_type": "execute_result"
    }
   ],
   "source": [
    "preprocess_df=preprocess_origin_col(data)\n",
    "prepared_data=data_pipeline(preprocess_df)\n",
    "prepared_data[0]\n"
   ]
  },
  {
   "cell_type": "markdown",
   "metadata": {},
   "source": [
    "Traning Models:\n",
    "1.Linear Regression\n",
    "2.Decision Tree\n",
    "3.SVM\n",
    "4.Random Forest"
   ]
  },
  {
   "cell_type": "code",
   "execution_count": 52,
   "metadata": {},
   "outputs": [
    {
     "name": "stdout",
     "output_type": "stream",
     "text": [
      "Prediction of samples:  [29.08069379 27.78336755 26.08031176 12.70419279 22.23454159]\n",
      "Actual Labels of samples:  [32.0, 31.0, 26.0, 18.0, 26.0]\n"
     ]
    }
   ],
   "source": [
    "from sklearn.linear_model import LinearRegression\n",
    "\n",
    "lin_reg = LinearRegression()\n",
    "lin_reg.fit(prepared_data, data_label)\n",
    "\n",
    "sample_data = data.iloc[:5]\n",
    "sample_labels = data_label.iloc[:5]\n",
    "\n",
    "sample_data_prepared = data_pipeline(sample_data)\n",
    "\n",
    "print(\"Prediction of samples: \", lin_reg.predict(sample_data_prepared))\n",
    "\n",
    "print(\"Actual Labels of samples: \", list(sample_labels))"
   ]
  },
  {
   "cell_type": "code",
   "execution_count": 53,
   "metadata": {},
   "outputs": [
    {
     "data": {
      "text/plain": [
       "2.9590402225760872"
      ]
     },
     "execution_count": 53,
     "metadata": {},
     "output_type": "execute_result"
    }
   ],
   "source": [
    "from sklearn.metrics import mean_squared_error\n",
    "\n",
    "lg_prediction=lin_reg.predict(prepared_data)\n",
    "lin_mse= mean_squared_error(data_label,lg_prediction)\n",
    "lin_rmse= np.sqrt(lin_mse)\n",
    "lin_rmse"
   ]
  },
  {
   "cell_type": "code",
   "execution_count": 54,
   "metadata": {},
   "outputs": [
    {
     "data": {
      "text/plain": [
       "2.6202931042537623"
      ]
     },
     "execution_count": 54,
     "metadata": {},
     "output_type": "execute_result"
    }
   ],
   "source": [
    "#Decision Tree\n",
    "from sklearn.ensemble import RandomForestRegressor\n",
    "from sklearn.model_selection import cross_val_score\n",
    "\n",
    "tree_reg= RandomForestRegressor()\n",
    "tree_reg.fit(prepared_data,data_label)\n",
    "tree_cv= cross_val_score(tree_reg,prepared_data,data_label,scoring='neg_mean_squared_error',cv=10)\n",
    "\n",
    "tree_mse=np.sqrt(-tree_cv)\n",
    "tree_mse.mean()"
   ]
  },
  {
   "cell_type": "code",
   "execution_count": 55,
   "metadata": {},
   "outputs": [
    {
     "data": {
      "text/plain": [
       "GridSearchCV(cv=10, estimator=RandomForestRegressor(),\n",
       "             param_grid=[{'max_features': [2, 4, 6, 8],\n",
       "                          'n_estimators': [3, 10, 30]},\n",
       "                         {'bootstrap': [False], 'max_features': [2, 3, 4],\n",
       "                          'n_estimators': [3, 10]}],\n",
       "             return_train_score=True, scoring='neg_mean_squared_error')"
      ]
     },
     "execution_count": 55,
     "metadata": {},
     "output_type": "execute_result"
    }
   ],
   "source": [
    "from sklearn.model_selection import GridSearchCV\n",
    "\n",
    "param_grid=[\n",
    "    {'n_estimators': [3, 10, 30], 'max_features': [2, 4, 6, 8]},\n",
    "    {'bootstrap': [False], 'n_estimators': [3, 10], 'max_features': [2, 3, 4]},\n",
    "  ]\n",
    "\n",
    "forest_reg=RandomForestRegressor()\n",
    "\n",
    "grid_search= GridSearchCV(forest_reg,param_grid,scoring='neg_mean_squared_error',return_train_score=True,cv=10)\n",
    "grid_search.fit(prepared_data,data_label)"
   ]
  },
  {
   "cell_type": "code",
   "execution_count": 56,
   "metadata": {},
   "outputs": [
    {
     "data": {
      "text/plain": [
       "{'max_features': 4, 'n_estimators': 30}"
      ]
     },
     "execution_count": 56,
     "metadata": {},
     "output_type": "execute_result"
    }
   ],
   "source": [
    "grid_search.best_params_"
   ]
  },
  {
   "cell_type": "code",
   "execution_count": 57,
   "metadata": {},
   "outputs": [
    {
     "name": "stdout",
     "output_type": "stream",
     "text": [
      "3.7246683087030217 {'max_features': 2, 'n_estimators': 3}\n",
      "2.971575714637367 {'max_features': 2, 'n_estimators': 10}\n",
      "2.8715652462525845 {'max_features': 2, 'n_estimators': 30}\n",
      "3.0696096429701045 {'max_features': 4, 'n_estimators': 3}\n",
      "2.8877207515812366 {'max_features': 4, 'n_estimators': 10}\n",
      "2.7114037477620583 {'max_features': 4, 'n_estimators': 30}\n",
      "3.001799770024476 {'max_features': 6, 'n_estimators': 3}\n",
      "2.896003522306158 {'max_features': 6, 'n_estimators': 10}\n",
      "2.7519077636442932 {'max_features': 6, 'n_estimators': 30}\n",
      "3.0678982121257152 {'max_features': 8, 'n_estimators': 3}\n",
      "2.8614508589429177 {'max_features': 8, 'n_estimators': 10}\n",
      "2.739046968631785 {'max_features': 8, 'n_estimators': 30}\n",
      "3.341072031667161 {'bootstrap': False, 'max_features': 2, 'n_estimators': 3}\n",
      "2.8208932378369433 {'bootstrap': False, 'max_features': 2, 'n_estimators': 10}\n",
      "3.275290744023392 {'bootstrap': False, 'max_features': 3, 'n_estimators': 3}\n",
      "2.9780424128785046 {'bootstrap': False, 'max_features': 3, 'n_estimators': 10}\n",
      "2.850001709582585 {'bootstrap': False, 'max_features': 4, 'n_estimators': 3}\n",
      "2.7235297213625485 {'bootstrap': False, 'max_features': 4, 'n_estimators': 10}\n"
     ]
    }
   ],
   "source": [
    "cv_scores=grid_search.cv_results_\n",
    "\n",
    "for mean_square,param in zip(cv_scores['mean_test_score'],cv_scores['params']):\n",
    "    print(np.sqrt(-mean_square),param)"
   ]
  },
  {
   "cell_type": "code",
   "execution_count": 58,
   "metadata": {},
   "outputs": [
    {
     "data": {
      "text/plain": [
       "array([0.14221324, 0.2378602 , 0.11031219, 0.16277943, 0.01826813,\n",
       "       0.11690313, 0.08145281, 0.11912565, 0.00496064, 0.0029929 ,\n",
       "       0.0031317 ])"
      ]
     },
     "execution_count": 58,
     "metadata": {},
     "output_type": "execute_result"
    }
   ],
   "source": [
    "#Feature Importance\n",
    "\n",
    "feature_importance=grid_search.best_estimator_.feature_importances_\n",
    "feature_importance"
   ]
  },
  {
   "cell_type": "code",
   "execution_count": 59,
   "metadata": {},
   "outputs": [
    {
     "data": {
      "text/plain": [
       "[('acc_power', 0.08145280978657944),\n",
       " ('acc_cyl', 0.11912564674824973),\n",
       " ('Weight', 0.16277942605230872),\n",
       " ('Model Year', 0.11690312860126634),\n",
       " ('Horsepower', 0.11031218543529696),\n",
       " ('Displacement', 0.23786019680265372),\n",
       " ('Cylinders', 0.1422132398118388),\n",
       " ('Acceleration', 0.018268125484568)]"
      ]
     },
     "execution_count": 59,
     "metadata": {},
     "output_type": "execute_result"
    }
   ],
   "source": [
    "extra=[\"acc_power\",\"acc_cyl\"]\n",
    "num=[\"float64\",\"int64\"]\n",
    "\n",
    "num_aatr= list(data.select_dtypes(include=num))\n",
    "\n",
    "attr=num_aatr+extra\n",
    "\n",
    "sorted(zip(attr,feature_importance),reverse=True)"
   ]
  },
  {
   "cell_type": "code",
   "execution_count": 60,
   "metadata": {},
   "outputs": [
    {
     "data": {
      "text/plain": [
       "2.881425307995257"
      ]
     },
     "execution_count": 60,
     "metadata": {},
     "output_type": "execute_result"
    }
   ],
   "source": [
    "final=grid_search.best_estimator_\n",
    "\n",
    "X_test=strat_test_set.drop(\"MPG\",axis=1)\n",
    "y_test=strat_test_set[\"MPG\"].copy()\n",
    "\n",
    "X_test_process=preprocess_origin_col(X_test)\n",
    "X_test_prepared=data_pipeline(X_test_process)\n",
    "\n",
    "final_predict=final.predict(X_test_prepared)\n",
    "final_mse=mean_squared_error(final_predict,y_test)\n",
    "final_rmse=np.sqrt(final_mse)\n",
    "final_rmse\n"
   ]
  },
  {
   "cell_type": "code",
   "execution_count": 61,
   "metadata": {},
   "outputs": [],
   "source": [
    "#Function\n",
    "\n",
    "def predict_func(config,model):\n",
    "    if type(config)==dict:\n",
    "        df=pd.DataFrame(config)\n",
    "    else:\n",
    "        df=config\n",
    "    preproc_df=preprocess_origin_col(df)\n",
    "    prep_data=data_pipeline(preproc_df)\n",
    "    y_pred=model.predict(prep_data)\n",
    "    return y_pred"
   ]
  },
  {
   "cell_type": "code",
   "execution_count": 62,
   "metadata": {},
   "outputs": [
    {
     "data": {
      "text/plain": [
       "array([32.57333333, 17.54333333, 20.40333333])"
      ]
     },
     "execution_count": 62,
     "metadata": {},
     "output_type": "execute_result"
    }
   ],
   "source": [
    "vehicle_config = {\n",
    "    'Cylinders': [4, 6, 8],\n",
    "    'Displacement': [155.0, 160.0, 165.5],\n",
    "    'Horsepower': [93.0, 130.0, 98.0],\n",
    "    'Weight': [2500.0, 3150.0, 2600.0],\n",
    "    'Acceleration': [15.0, 14.0, 16.0],\n",
    "    'Model Year': [81, 80, 78],\n",
    "    'Origin': [3, 2, 1]\n",
    "}\n",
    "\n",
    "predict_func(vehicle_config, final)"
   ]
  },
  {
   "cell_type": "code",
   "execution_count": 63,
   "metadata": {},
   "outputs": [],
   "source": [
    "import pickle"
   ]
  },
  {
   "cell_type": "code",
   "execution_count": 64,
   "metadata": {},
   "outputs": [],
   "source": [
    "with open(\"model.bin\",\"wb\") as f_out:\n",
    "    pickle.dump(final,f_out)\n",
    "    f_out.close()"
   ]
  },
  {
   "cell_type": "code",
   "execution_count": 65,
   "metadata": {},
   "outputs": [
    {
     "data": {
      "text/plain": [
       "array([32.57333333, 17.54333333, 20.40333333])"
      ]
     },
     "execution_count": 65,
     "metadata": {},
     "output_type": "execute_result"
    }
   ],
   "source": [
    "with open(\"model.bin\",\"rb\") as f_in:\n",
    "    model=pickle.load(f_in)\n",
    "\n",
    "predict_func(vehicle_config,model)"
   ]
  },
  {
   "cell_type": "code",
   "execution_count": null,
   "metadata": {},
   "outputs": [],
   "source": []
  }
 ],
 "metadata": {
  "kernelspec": {
   "display_name": "Python 3",
   "language": "python",
   "name": "python3"
  },
  "language_info": {
   "codemirror_mode": {
    "name": "ipython",
    "version": 3
   },
   "file_extension": ".py",
   "mimetype": "text/x-python",
   "name": "python",
   "nbconvert_exporter": "python",
   "pygments_lexer": "ipython3",
   "version": "3.6.5"
  }
 },
 "nbformat": 4,
 "nbformat_minor": 2
}
